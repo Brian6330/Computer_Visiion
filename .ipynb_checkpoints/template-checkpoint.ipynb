{
 "cells": [
  {
   "cell_type": "markdown",
   "metadata": {},
   "source": [
    "# Assignment 1 - Image Deblurring\n",
    "Name: Brian Schweigler<br>\n",
    "Matriculation number: 16-102-071"
   ]
  },
  {
   "cell_type": "code",
   "execution_count": 260,
   "metadata": {
    "pycharm": {
     "name": "#%%\n"
    }
   },
   "outputs": [],
   "source": [
    "import numpy as np\n",
    "import scipy\n",
    "import scipy.sparse.linalg\n",
    "from PIL import Image\n",
    "import matplotlib.pyplot as plt\n",
    "from hessian_matrix import hessian_matrix"
   ]
  },
  {
   "cell_type": "markdown",
   "metadata": {},
   "source": [
    "## Test Image\n",
    "You can use the following function to create a synthetic image:"
   ]
  },
  {
   "cell_type": "code",
   "execution_count": 261,
   "metadata": {},
   "outputs": [
    {
     "data": {
      "image/png": "[encoded data removed]",
      "text/plain": [
       "<Figure size 432x288 with 1 Axes>"
      ]
     },
     "metadata": {
      "needs_background": "light"
     },
     "output_type": "display_data"
    }
   ],
   "source": [
    "def create_random_binary_img_1():\n",
    "    u = np.random.randint(1, 2, 30 * 30).reshape(30, 30).astype(float)\n",
    "    u[5:9, 4:] = 0.5\n",
    "    u[3:5, 4:] = 0\n",
    "    u[10:15, :10] = 0\n",
    "    u[10:15, 15:] = 0.8\n",
    "    u[15:, 18:27] = 0.3\n",
    "\n",
    "    for i in range(10):\n",
    "        u[i + 17, i + 4:i + 8] = 0\n",
    "\n",
    "    u[20:25:, 20:23] = 1\n",
    "    u[20:28, 4] = 0\n",
    "    u[20:28, 3] = 0.3\n",
    "    u[20:28, 2] = 0.7\n",
    "\n",
    "    return u\n",
    "\n",
    "\n",
    "sample_image = create_random_binary_img_1()\n",
    "plt.imshow(sample_image, cmap=\"gray\")\n",
    "plt.show()"
   ]
  },
  {
   "cell_type": "markdown",
   "metadata": {},
   "source": [
    "## hessian_matrix() function\n",
    "We provide the implementation of the hessian matrix for $k = 0, 1, 2, 3$.\n",
    "\n",
    "input variables: \n",
    "- u: your image\n",
    "- reg: regularization parameter\n",
    "- k: one of the four kernel types 0-3 \n",
    "\n",
    "Example usage:"
   ]
  },
  {
   "cell_type": "code",
   "execution_count": 262,
   "metadata": {},
   "outputs": [
    {
     "name": "stdout",
     "output_type": "stream",
     "text": [
      "[[ 4.  -2.   0.  -2.   0.   0.   0.   0.   0. ]\n",
      " [-2.   6.5 -2.   0.5 -2.   0.   0.   0.   0. ]\n",
      " [ 0.  -2.   4.5  0.   0.5 -2.   0.   0.   0. ]\n",
      " [-2.   0.5  0.   6.5 -2.   0.  -2.   0.   0. ]\n",
      " [ 0.  -2.   0.5 -2.   9.  -2.   0.5 -2.   0. ]\n",
      " [ 0.   0.  -2.   0.  -2.   6.5  0.   0.5 -2. ]\n",
      " [ 0.   0.   0.  -2.   0.5  0.   4.5 -2.   0. ]\n",
      " [ 0.   0.   0.   0.  -2.   0.5 -2.   6.5 -2. ]\n",
      " [ 0.   0.   0.   0.   0.  -2.   0.  -2.   4. ]]\n"
     ]
    }
   ],
   "source": [
    "u_ex = np.zeros(9).reshape(3, 3)\n",
    "reg_ex = 1\n",
    "k_type_ex = 3\n",
    "A = hessian_matrix(u_ex, reg_ex, k_type_ex)\n",
    "A_n_t = A.toarray()\n",
    "print(A_n_t)"
   ]
  },
  {
   "cell_type": "markdown",
   "metadata": {},
   "source": [
    "## Implementation"
   ]
  },
  {
   "cell_type": "code",
   "execution_count": 263,
   "metadata": {},
   "outputs": [],
   "source": [
    "def derivative_img_term(g, u):\n",
    "    result = np.zeros(u.shape)\n",
    "    for x in range(u.shape[0]):\n",
    "        for y in range(u.shape[1]):\n",
    "            # Corners\n",
    "            if x == 0 and y == 0:\n",
    "                result[x, y] = 0\n",
    "            elif x == 0 and y == u.shape[1] - 1:\n",
    "                result[x, y] = -g[0, y - 1] + 0.5 * u[1, y] + 0.5 * u[0, y]\n",
    "            elif x == u.shape[0] - 1 and y == 0:\n",
    "                result[x, y] = 0\n",
    "            elif x == u.shape[0] - 1 and y == u.shape[1] - 1:\n",
    "                result[x, y] = - g[x - 1, y - 1] + 0.5 * u[x, y] + 0.5 * u[x - 1, y]\n",
    "            # Edges\n",
    "            elif x == 0:  # Upper edge\n",
    "                result[x, y] = - g[0, y - 1] + 0.5 * u[0, y] + 0.5 * u[1, y]\n",
    "            elif x == u.shape[0] - 1:  # Lower edge\n",
    "                result[x, y] = - g[x - 1, y - 1] + 0.5 * u[x, y] + 0.5 * u[x - 1, y]\n",
    "            elif y == 0:  # Left edge\n",
    "                result[x, y] = 0\n",
    "            elif y == u.shape[1] - 1:  # Right edge\n",
    "                result[x, y] = - g[x, y - 1] - g[x - 1, y - 1] + u[x, y] + 0.5 * u[x + 1, y] + 0.5 * u[x - 1, y]\n",
    "            # Inside Image\n",
    "            else:\n",
    "                result[x, y] = u[x, y] + 0.5 * u[x + 1, y] + 0.5 * u[x - 1, y] - g[x, y - 1] - g[x - 1, y - 1]\n",
    "    return result\n",
    "\n",
    "\n",
    "def derivative_gp_reg_term(u):\n",
    "    result = np.zeros(u.shape)\n",
    "    for x in range(u.shape[0]):\n",
    "        for y in range(u.shape[1]):\n",
    "            # Corners\n",
    "            if x == 0 and y == 0:\n",
    "                result[x, y] = 4 * u[0, 0] - 2 * u[1, 0] - 2 * u[0, 1]\n",
    "            elif x == 0 and y == u.shape[1] - 1:\n",
    "                result[x, y] = 4 * u[0, y] - 2 * u[1, y] - 2 * u[0, y - 1]\n",
    "            elif x == u.shape[0] - 1 and y == 0:\n",
    "                result[x, y] = 4 * u[x, 0] - 2 * u[x - 1, 0] - 2 * u[x, 1]\n",
    "            elif x == u.shape[0] - 1 and y == u.shape[1] - 1:\n",
    "                result[x, y] = 4 * u[x, y] - 2 * u[x - 1, y] - 2 * u[x, y - 1]\n",
    "            # Edges\n",
    "            elif x == 0:  # Upper edge\n",
    "                result[x, y] = 6 * u[0, y] - 2 * u[1, y] - 2 * u[0, y + 1] - 2 * u[0, y - 1]\n",
    "            elif x == u.shape[0] - 1:  # Lower edge\n",
    "                result[x, y] = 6 * u[x, y] - 2 * u[x - 1, y] - 2 * u[x, y + 1] - 2 * u[x, y - 1]\n",
    "            elif y == 0:  # Left edge\n",
    "                result[x, y] = 6 * u[x, 0] - 2 * u[x - 1, 0] - 2 * u[x + 1, 0] - 2 * u[x, 1]\n",
    "            elif y == u.shape[1] - 1:  # Right edge\n",
    "                result[x, y] = 6 * u[x, y] - 2 * u[x - 1, y] - 2 * u[x + 1, y] - 2 * u[x, y - 1]\n",
    "            # Inside Image\n",
    "            else:\n",
    "                result[x, y] = 8 * u[x, y] - 2 * u[x - 1, y] - 2 * u[x + 1, y] - 2 * u[x, y + 1] - 2 * u[x, y - 1]\n",
    "    return result\n",
    "\n",
    "\n",
    "def derivative_atv_reg_term(u):\n",
    "    result = np.zeros(u.shape)\n",
    "    for x in range(u.shape[0]):\n",
    "        for y in range(u.shape[1]):\n",
    "            # Corners\n",
    "            if x == 0 and y == 0:\n",
    "                result[x, y] = - np.sign(u[1, 0] - u[0, 0]) - np.sign(u[0, 1] - u[0, 0])\n",
    "            elif x == 0 and y == u.shape[1] - 1:\n",
    "                result[x, y] = np.sign(u[0, y] - u[0, y - 1]) - np.sign(u[1, y] - u[0, y])\n",
    "            elif x == u.shape[0] - 1 and y == 0:\n",
    "                result[x, y] = np.sign(u[x, 0] - u[x - 1, 0]) - np.sign(u[x, 1] - u[x, 0])\n",
    "            elif x == u.shape[0] - 1 and y == u.shape[1] - 1:\n",
    "                result[x, y] = np.sign(u[x, y] - u[x, y - 1]) + np.sign(u[x, y] - u[x - 1, y])\n",
    "            # Edges\n",
    "            elif x == 0:  # Upper edge\n",
    "                result[x, y] = - np.sign(u[1, y] - u[0, y]) - np.sign(u[0, y + 1] - u[0, y]) - np.sign(\n",
    "                    u[0, y] - u[0, y - 1])\n",
    "            elif x == u.shape[0] - 1:  # Lower edge\n",
    "                result[x, y] = np.sign(u[x, y] - u[x - 1, y]) + np.sign(u[x, y] - u[x, y - 1]) - np.sign(\n",
    "                    u[x, y + 1] - u[x, y])\n",
    "            elif y == 0:  # Left edge\n",
    "                result[x, y] = - np.sign(u[x + 1, 0] - u[x, 0]) + np.sign(u[x, 0] - u[x - 1, 0]) - np.sign(\n",
    "                    u[x, 1] - u[x, 0])\n",
    "            elif y == u.shape[1] - 1:  # Right edge\n",
    "                result[x, y] = np.sign(u[x, y] - u[x, y - 1]) + np.sign(u[x, y] - u[x - 1, y]) - np.sign(\n",
    "                    u[x + 1, y] - u[x, y])\n",
    "            # Inside Image\n",
    "            else:\n",
    "                result[x, y] = np.sign(u[x, y] - u[x - 1, y]) - np.sign(u[x + 1, y] - u[x, y]) - np.sign(\n",
    "                    u[x, y + 1] - u[x, y]) - np.sign(u[x, y] - u[x, y - 1])\n",
    "    return result\n",
    "\n",
    "\n",
    "def GD(g, reg_lambda, action=\"\"):\n",
    "    \"\"\"\n",
    "    Gradient Descent algorithm\n",
    "    g: grayscale blurry image of size (M, N)\n",
    "    reg_lambda: regularization parameter\n",
    "    Optional 'action': Variant to be used.\n",
    "    \"\"\"\n",
    "    # TODO Test\n",
    "    u = np.zeros((g.shape[0] + 1, g.shape[1] + 1))\n",
    "    epsilon = 0.1\n",
    "\n",
    "    for x in range(g.shape[0]):\n",
    "        for y in range(g.shape[1]):\n",
    "            u[x, y] = g[x, y]\n",
    "\n",
    "    if action == \"gauss\":  # Gaussian Regularization\n",
    "        gradient = derivative_img_term(g, u) + reg_lambda * derivative_gp_reg_term(u)\n",
    "        # while (np.sum(np.power(gradient, 2)) > margin):\n",
    "        for i in range(1000):\n",
    "            u = u - epsilon * gradient\n",
    "            gradient = derivative_img_term(g, u) + reg_lambda * derivative_gp_reg_term(u)\n",
    "    elif action == \"aniso\":  # Anisotropic Total Variation\n",
    "        gradient = derivative_img_term(g, u) + reg_lambda * derivative_atv_reg_term(u)\n",
    "        for i in range(1000):\n",
    "            u = u - epsilon * gradient\n",
    "            gradient = derivative_img_term(g, u) + reg_lambda * derivative_atv_reg_term(u)\n",
    "\n",
    "    else:  # No Regularization\n",
    "        gradient = derivative_img_term(g, u)\n",
    "        while np.sum(np.power(gradient, 2)) > 0.000001:\n",
    "            u = u - epsilon * gradient\n",
    "            gradient = derivative_img_term(g, u)\n",
    "    return u"
   ]
  },
  {
   "cell_type": "code",
   "execution_count": 264,
   "metadata": {},
   "outputs": [],
   "source": [
    "def iterative_linearization(g, u, reg_lambda):\n",
    "    m = u.shape[0]\n",
    "    n = u.shape[1]\n",
    "    k = 1\n",
    "    vector_u = u.reshape(m * n, 1)\n",
    "\n",
    "    H = hessian_matrix(u, reg_lambda, k)\n",
    "    b = H * vector_u - (derivative_img_term(g, u) + reg_lambda * derivative_gp_reg_term(u)).reshape(m * n, 1)\n",
    "    L = scipy.sparse.tril(H, k=0)\n",
    "    U = scipy.sparse.triu(H, k=1)\n",
    "\n",
    "    vector_u = scipy.linalg.inv(L) * (b - U * vector_u)\n",
    "\n",
    "    u = vector_u.reshape(m, n)\n",
    "\n",
    "    return u"
   ]
  },
  {
   "cell_type": "code",
   "execution_count": 265,
   "metadata": {
    "pycharm": {
     "name": "#%%\n"
    }
   },
   "outputs": [],
   "source": [
    "def LGS(g, reg_lambda):\n",
    "    \"\"\"\n",
    "    Linearalized Gauss Seidel Algortihm\n",
    "    g: grayscale blurry image of size (M, N)\n",
    "    reg_lambda: regularization parameter\n",
    "    \"\"\"\n",
    "    u = np.zeros((g.shape[0] + 1, g.shape[1] + 1))\n",
    "    old_u = np.zeros((g.shape[0] + 1, g.shape[1] + 1))\n",
    "\n",
    "    for x in range(g.shape[0]):\n",
    "        for y in range(g.shape[1]):\n",
    "            u[x, y] = g[x, y]\n",
    "\n",
    "    while (np.sum(np.power(old_u - u, 2)) > 0.000001):\n",
    "        old_u = u\n",
    "        u = iterative_linearization(g, u, reg_lambda)\n",
    "\n",
    "    return u"
   ]
  },
  {
   "cell_type": "code",
   "execution_count": 266,
   "metadata": {},
   "outputs": [],
   "source": [
    "def iterative_linearization_SOR(g, u, reg_lambda, w):\n",
    "    \"\"\"\n",
    "    TODO: Description\n",
    "    \"\"\"\n",
    "    m = u.shape[0]\n",
    "    n = u.shape[1]\n",
    "\n",
    "    vector_u = u.reshape(m * n, 1)\n",
    "\n",
    "    H = hessian_matrix(u, reg_lambda, k)\n",
    "    L = scipy.sparse.tril(H, k=-1)\n",
    "    U = scipy.sparse.triu(H, k=1)\n",
    "    D = H - L - U\n",
    "    b = H * vector_u - (derivative_img_term(g, u) + reg_lambda * derivative_gp_reg_term(u)).reshape(m * n, 1)\n",
    "\n",
    "    vector_u = scipy.sparse.linalg.inv(D + w * L) * (w * b - (w * U + (w - 1) * D) * vector_u)\n",
    "\n",
    "    u = vector_u.reshape(m, n)\n",
    "\n",
    "    return u\n",
    "\n",
    "\n",
    "def LSOR(g, reg_lambda, w):\n",
    "    \"\"\"\n",
    "    Linearized SOR Algorithm\n",
    "    g: grayscale blurry image of size (M, N)\n",
    "    reg_lambda: regularization parameter\n",
    "    w: SOR parameter\n",
    "    \"\"\"\n",
    "\n",
    "    u = np.zeros((g.shape[0] + 1, g.shape[1] + 1))\n",
    "    prior_u = np.zeros((g.shape[0] + 1, g.shape[1] + 1))\n",
    "\n",
    "    for x in range(g.shape[0]):\n",
    "        for y in range(g.shape[1]):\n",
    "            u[x, y] = g[x, y]\n",
    "\n",
    "    while np.sum(np.power(prior_u - u, 2)) > 0.00001:\n",
    "        prior_u = u\n",
    "        u = iterative_linearization_SOR(g, u, reg_lambda, w)\n",
    "    return u"
   ]
  },
  {
   "cell_type": "markdown",
   "metadata": {},
   "source": [
    "### Parameters"
   ]
  },
  {
   "cell_type": "code",
   "execution_count": 278,
   "metadata": {},
   "outputs": [],
   "source": [
    "# TODO Adjust\n",
    "reg_lambda = 0.001  # lambda regularization parameter. you need to play with this\n",
    "\n",
    "# k matrix. Look below how to choose it \n",
    "k = 1"
   ]
  },
  {
   "cell_type": "markdown",
   "metadata": {},
   "source": [
    "$k =0 \\longrightarrow \\begin{bmatrix}\\frac{1}{2} & \\frac{1}{2} \\\\0&0\\end{bmatrix} \\hspace{1cm} k =1 \\longrightarrow  \\begin{bmatrix}\\frac{1}{2} & 0 \\\\\\frac{1}{2}&0\\end{bmatrix} \\hspace{1cm} k =2 \\longrightarrow \\begin{bmatrix}\\frac{1}{2} & 0 \\\\0&\\frac{1}{2}\\end{bmatrix}   \\hspace{1cm} k =3 \\longrightarrow \\begin{bmatrix}0 & \\frac{1}{2} \\\\ \\frac{1}{2}&0\\end{bmatrix}$"
   ]
  },
  {
   "cell_type": "markdown",
   "metadata": {
    "pycharm": {
     "name": "#%% md\n"
    }
   },
   "source": [
    "### Blurring the image"
   ]
  },
  {
   "cell_type": "code",
   "execution_count": 268,
   "metadata": {
    "pycharm": {
     "name": "#%%\n"
    }
   },
   "outputs": [],
   "source": [
    "def blurring(img, kernel):\n",
    "    \"\"\"\n",
    "    TODO: Description\n",
    "    \"\"\"\n",
    "    blurred_img = np.zeros((img.shape[0] - 1, img.shape[1] - 1))\n",
    "    for row in range(img.shape[0] - 1):\n",
    "        for column in range(img.shape[1] - 1):\n",
    "            blur_pixel = 0\n",
    "            for p in range(kernel.shape[0]):\n",
    "                for q in range(kernel.shape[1]):\n",
    "                    blur_pixel += kernel[p, q] * img[row - p + 1, column - q + 1]\n",
    "                blurred_img[row, column] = blur_pixel\n",
    "    return blurred_img"
   ]
  },
  {
   "cell_type": "markdown",
   "metadata": {},
   "source": [
    "### Miscellanous functions"
   ]
  },
  {
   "cell_type": "code",
   "execution_count": 269,
   "metadata": {
    "pycharm": {
     "name": "#%%\n"
    }
   },
   "outputs": [],
   "source": [
    "def compute_loss(g, u, k):\n",
    "    #TODO DESCRIPTION\n",
    "    loss = 0\n",
    "    for x in range(g.shape[0]):\n",
    "        for y in range(g.shape[1]):\n",
    "            convolution = 0\n",
    "            for p in range(k.shape[0]):\n",
    "                for q in range(k.shape[1]):\n",
    "                    convolution += k[p, q] * u[x - p + 1, y - q + 1]\n",
    "            loss += (g[x, y] - convolution) ** 2\n",
    "    return loss"
   ]
  },
  {
   "cell_type": "markdown",
   "metadata": {},
   "source": [
    "### Reading image\n",
    "You are provided with only the synthetic image. \n",
    "The purpose of using a synthetic image is to see possible changes in the deblurred image after applying your algorithm. \n",
    "You can convolve the original image using the [scipy library](https://docs.scipy.org/doc/scipy/reference/generated/scipy.signal.convolve2d.html).\n",
    "Note that you must choose **valid** as the mode in your convolution."
   ]
  },
  {
   "cell_type": "code",
   "execution_count": 270,
   "metadata": {},
   "outputs": [],
   "source": [
    "img_org = sample_image = create_random_binary_img_1()\n",
    "\n",
    "# Kernel k = 1\n",
    "kernel = np.array([[0.5, 0], [0.5, 0]])\n",
    "\n",
    "img_blurred = blurring(sample_image, kernel)"
   ]
  },
  {
   "cell_type": "markdown",
   "metadata": {},
   "source": [
    "## GRADIENT DESCENT"
   ]
  },
  {
   "cell_type": "code",
   "execution_count": 279,
   "metadata": {},
   "outputs": [
    {
     "data": {
      "image/png": "[encoded data removed]",
      "text/plain": [
       "<Figure size 1080x360 with 3 Axes>"
      ]
     },
     "metadata": {
      "needs_background": "light"
     },
     "output_type": "display_data"
    },
    {
     "name": "stdout",
     "output_type": "stream",
     "text": [
      "For lambda 0.00250\t \n",
      "k_type 1\n",
      "Loss Data Term = 0.01380\n",
      "Sum of Squared Distance: deblurred vs. original = 1.68528\n"
     ]
    }
   ],
   "source": [
    "# run gradient descent algorithm\n",
    "img_deblurred_gd = GD(img_blurred, reg_lambda, \"gauss\")\n",
    "\n",
    "# for visualization purpose \n",
    "# img_deblurred_gd = np.clip(u_final_gd, 0, 1)\n",
    "\n",
    "plt.figure(figsize=(15, 5))\n",
    "ax1 = plt.subplot(1, 3, 1)\n",
    "plt.imshow(img_blurred, cmap='gray')\n",
    "ax2 = plt.subplot(1, 3, 2)\n",
    "plt.imshow(img_deblurred_gd, cmap='gray')\n",
    "ax3 = plt.subplot(1, 3, 3)\n",
    "plt.imshow(img_org, cmap='gray')\n",
    "\n",
    "ax1.set_title(\"Blurred Image\")\n",
    "ax2.set_title(\"Deblurred Image - GD\")\n",
    "ax3.set_title(\"Original - Sharp Image\")\n",
    "plt.show()\n",
    "\n",
    "print(f\"For lambda {reg_lambda:.5f}\\t \\nk_type {k:1d}\")\n",
    "print(f\"Loss Data Term = {compute_loss(img_blurred, img_deblurred_gd, kernel):.5f}\")\n",
    "print(f\"Sum of Squared Distance: deblurred vs. original = {np.sum(np.power(img_deblurred_gd - sample_image, 2)):.5f}\")"
   ]
  },
  {
   "cell_type": "markdown",
   "metadata": {},
   "source": [
    "## SOR"
   ]
  },
  {
   "cell_type": "code",
   "execution_count": 272,
   "metadata": {},
   "outputs": [],
   "source": [
    "w = 0.3  #play with this TODO\n",
    "\n",
    "# run LSOR algorithm\n",
    "# img_deblurred_sor = LSOR(img_blurred, reg_lambda, w)\n",
    "#\n",
    "# plt.figure(figsize=(15, 5))\n",
    "# ax1 = plt.subplot(1, 3, 1)\n",
    "# plt.imshow(img_blurred, cmap='gray')\n",
    "# ax2 = plt.subplot(1, 3, 2)\n",
    "# plt.imshow(img_deblurred_sor, cmap='gray')\n",
    "# ax3 = plt.subplot(1, 3, 3)\n",
    "# plt.imshow(img_org, cmap='gray')\n",
    "#\n",
    "# ax1.set_title(\"Blurred Image\")\n",
    "# ax2.set_title(\"Deblurred Image - LSOR\")\n",
    "# ax3.set_title(\"Original - Sharp Image\")\n",
    "# plt.savefig(\"results_\" + str(k) + \".png\")\n",
    "# plt.show()\n",
    "#\n",
    "# print(f\"For lambda {reg_lambda:.5f}\")\n",
    "# print(f\"Loss Data Term = {compute_loss(img_blurred, img_deblurred_sor, kernel):.5f}\")\n",
    "# print(f\"Sum of Squared Distance: deblurred vs. original = {np.sum(np.power(img_deblurred_sor - sample_image, 2)):.5f}\")\n",
    "\n"
   ]
  },
  {
   "cell_type": "markdown",
   "metadata": {},
   "source": [
    "## GAUSS - SEIDEL"
   ]
  },
  {
   "cell_type": "code",
   "execution_count": 273,
   "metadata": {},
   "outputs": [],
   "source": [
    "nb_iter = 1\n",
    "\n",
    "# run LGS algorithm\n",
    "# img_deblurred_gs = LGS(img_blurred, reg_lambda)\n",
    "#\n",
    "# plt.figure(figsize=(15, 5))\n",
    "# ax1 = plt.subplot(1, 3, 1)\n",
    "# plt.imshow(img_blurred, cmap='gray')\n",
    "# ax2 = plt.subplot(1, 3, 2)\n",
    "# plt.imshow(img_deblurred_gs, cmap='gray')\n",
    "# ax3 = plt.subplot(1, 3, 3)\n",
    "# plt.imshow(img_org, cmap='gray')\n",
    "#\n",
    "# ax1.set_title(\"Blurred Image\")\n",
    "# ax2.set_title(\"Deblurred Image - LGS\")\n",
    "# ax3.set_title(\"Original - Sharp Image\")\n",
    "# plt.show()\n",
    "#\n",
    "# print(f\"For lambda {reg_lambda:.5f}\")\n",
    "# print(f\"Loss Data Term = {compute_loss(img_blurred, img_deblurred_gs, kernel):.5f}\")\n",
    "# print(f\"Sum of Squared Distance: deblurred vs. original = {np.sum(np.power(img_deblurred_gs - sample_image, 2)):.5f}\")"
   ]
  }
 ],
 "metadata": {
  "kernelspec": {
   "display_name": "Python 3 (ipykernel)",
   "language": "python",
   "name": "python3"
  },
  "language_info": {
   "codemirror_mode": {
    "name": "ipython",
    "version": 3
   },
   "file_extension": ".py",
   "mimetype": "text/x-python",
   "name": "python",
   "nbconvert_exporter": "python",
   "pygments_lexer": "ipython3",
   "version": "3.9.2"
  }
 },
 "nbformat": 4,
 "nbformat_minor": 4
}
