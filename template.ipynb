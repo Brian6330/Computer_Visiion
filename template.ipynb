{
 "cells": [
  {
   "cell_type": "markdown",
   "metadata": {},
   "source": [
    "# Assignment 1 - Image Deblurring\n",
    "\n",
    "Name: Brian Schweigler<br>\n",
    "Matriculation number: 16-102-071"
   ]
  },
  {
   "cell_type": "code",
   "execution_count": 1,
   "metadata": {},
   "outputs": [],
   "source": [
    "import numpy as np\n",
    "from PIL import Image\n",
    "import matplotlib.pyplot as plt\n",
    "\n",
    "from hessian_matrix import hessian_matrix"
   ]
  },
  {
   "cell_type": "markdown",
   "metadata": {},
   "source": [
    "## Test Image\n",
    "\n",
    "You can use the following function to create a synthetic image:\n",
    "\n"
   ]
  },
  {
   "cell_type": "code",
   "execution_count": 2,
   "metadata": {},
   "outputs": [
    {
     "name": "stderr",
     "output_type": "stream",
     "text": [
      "C:\\Users\\Brian\\AppData\\Local\\Temp/ipykernel_10216/600981740.py:3: DeprecationWarning: `np.float` is a deprecated alias for the builtin `float`. To silence this warning, use `float` by itself. Doing this will not modify any behavior and is safe. If you specifically wanted the numpy scalar type, use `np.float64` here.\n",
      "Deprecated in NumPy 1.20; for more details and guidance: https://numpy.org/devdocs/release/1.20.0-notes.html#deprecations\n",
      "  u = np.random.randint(1,2, 30*30).reshape(30,30).astype(np.float)\n"
     ]
    },
    {
     "data": {
      "text/plain": "<Figure size 432x288 with 1 Axes>",
      "image/png": "[encoded data removed]"
     },
     "metadata": {
      "needs_background": "light"
     },
     "output_type": "display_data"
    }
   ],
   "source": [
    "def create_random_binary_img_1():\n",
    "    \n",
    "    u = np.random.randint(1,2, 30*30).reshape(30,30).astype(np.float)\n",
    "\n",
    "    u[5:9,4:] = 0.5\n",
    "    u[3:5,4:] = 0\n",
    "    u[10:15,:10] = 0\n",
    "    u[10:15,15:] = 0.8\n",
    "    u[15:, 18:27] = 0.3\n",
    "\n",
    "    for i in range(10):\n",
    "        u[i+17,i+4:i+8]  = 0\n",
    "    \n",
    "    u[20:25:, 20:23] = 1    \n",
    "    u[20:28,4] = 0\n",
    "    u[20:28,3] = 0.3\n",
    "    u[20:28,2] = 0.7\n",
    "\n",
    "    return u\n",
    "\n",
    "sample_image = create_random_binary_img_1()\n",
    "\n",
    "plt.imshow(sample_image, cmap =\"gray\")\n",
    "plt.show()"
   ]
  },
  {
   "cell_type": "markdown",
   "metadata": {},
   "source": [
    "## hessian_matrix() function\n",
    "\n",
    "We provide the implementation of the hessian matrix for $k = 0, 1, 2, 3$.\n",
    "\n",
    "input variables: \n",
    "- u: your image\n",
    "- reg: regularization parameter\n",
    "- k: one of the four kernel types 0-3 \n",
    "\n",
    "Example usage:"
   ]
  },
  {
   "cell_type": "code",
   "execution_count": 3,
   "metadata": {},
   "outputs": [
    {
     "name": "stdout",
     "output_type": "stream",
     "text": [
      "[[ 4.  -2.   0.  -2.   0.   0.   0.   0.   0. ]\n",
      " [-2.   6.5 -2.   0.5 -2.   0.   0.   0.   0. ]\n",
      " [ 0.  -2.   4.5  0.   0.5 -2.   0.   0.   0. ]\n",
      " [-2.   0.5  0.   6.5 -2.   0.  -2.   0.   0. ]\n",
      " [ 0.  -2.   0.5 -2.   9.  -2.   0.5 -2.   0. ]\n",
      " [ 0.   0.  -2.   0.  -2.   6.5  0.   0.5 -2. ]\n",
      " [ 0.   0.   0.  -2.   0.5  0.   4.5 -2.   0. ]\n",
      " [ 0.   0.   0.   0.  -2.   0.5 -2.   6.5 -2. ]\n",
      " [ 0.   0.   0.   0.   0.  -2.   0.  -2.   4. ]]\n"
     ]
    }
   ],
   "source": [
    "u_ex = np.zeros(9).reshape(3,3)\n",
    "reg_ex = 1\n",
    "k_type_ex = 3\n",
    "A = hessian_matrix(u_ex, reg_ex, k_type_ex)\n",
    "A_n_t = A.toarray()\n",
    "print(A_n_t)"
   ]
  },
  {
   "cell_type": "markdown",
   "metadata": {},
   "source": [
    "## Implementation"
   ]
  },
  {
   "cell_type": "code",
   "execution_count": null,
   "metadata": {},
   "outputs": [],
   "source": [
    "def derivative_img_term(g, u):\n",
    "    result = np.zeros(u.shape)\n",
    "    for x in range(u.shape[0]):\n",
    "        for y in range(u.shape[1]):\n",
    "            # Corners\n",
    "            if x == 0 and y == 0:\n",
    "                result[x, y] = 0\n",
    "            elif x == 0 and y == u.shape[1] - 1:\n",
    "                result[x, y] = -g[0, y - 1] + 0.5 * u[1, y] + u[0, y]\n",
    "            elif x == u.shape[0] - 1 and y == 0:\n",
    "                result[x, y] = 0\n",
    "            elif x == u.shape[0] - 1 and y == u.shape[1] - 1:\n",
    "                result[x, y] = - g[x - 1, y - 1] + 0.5 * u[x, y] + 0.5 * u[x - 1, y]\n",
    "            # Edges\n",
    "            elif x == 0:  # Upper edge\n",
    "                result[x, y] = - g[0, y - 1] + 0.5 * u[0, y] + 0.5 * u[1, y]\n",
    "            elif x == u.shape[0] - 1:  # Lower edge\n",
    "                result[x, y] = - g[x - 1, y - 1] + 0.5 * u[x, y] + 0.5 * u[x - 1, y]\n",
    "            elif y == 0:  # Left edge\n",
    "                result[x, y] = 0\n",
    "            elif y == u.shape[1] - 1:  # Right edge\n",
    "                result[x, y] = - g[x, y - 1] - g[x - 1, y - 1] + u[x, y] + 0.5 * u[x + 1, y] + 0.5 * u[x - 1, y]\n",
    "            # Inside Image\n",
    "            else:\n",
    "                result[x, y] = u[x, y] + 0.5 * u[x + 1, y] + 0.5 * u[x - 1, y] - g[x, y - 1] - g[x - 1, y - 1]\n",
    "\n",
    "\n",
    "def derivative_gp_reg_term(u):\n",
    "    result = np.zeros(u.shape)\n",
    "    for x in range(u.shape[0]):\n",
    "        for y in range(u.shape[1]):\n",
    "            # Corners\n",
    "            if x == 0 and y == 0:\n",
    "                result[x, y] = 4 * u[0, 0] - 2 * u[1, 0] - 2 * u[0, 1]\n",
    "            elif x == 0 and y == u.shape[1] - 1:\n",
    "                result[x, y] = 4 * u[0, y] - 2 * u[1, y] - 2 * u[0, y - 1]\n",
    "            elif x == u.shape[0] - 1 and y == 0:\n",
    "                result[x, y] = 4 * u[x, 0] - 2 * u[x - 1, 0] - u[x, 1]\n",
    "            elif x == u.shape[0] - 1 and y == u.shape[1] - 1:\n",
    "                result[x, y] = 4 * u[x, y] - u[x - 1, y] - u[x, y - 1]\n",
    "            # Edges\n",
    "            elif x == 0:  # Upper edge\n",
    "                result[x, y] = 6 * u[0, y] - 2 * u[1, y] - 2 * u[0, y + 1] - 2 * u[0, y - 1]\n",
    "            elif x == u.shape[0] - 1:  # Lower edge\n",
    "                result[x, y] = 6 * u[x, y] - 2 * u[x - 1, y] - 2 * u[x, y + 1] - 2 * u[x, y - 1]\n",
    "            elif y == 0:  # Left edge\n",
    "                result[x, y] = 6 * u[x, 0] - 2 * u[x - 1, 0] - 2 * u[x + 1, 0] - 2 * u[x, 1]\n",
    "            elif y == u.shape[1] - 1:  # Right edge\n",
    "                result[x, y] = 6 * u[x, y] - 2 * u[x - 1, y] - 2 * u[x + 1, y] - 2 * u[x, y - 1]\n",
    "            # Inside Image\n",
    "            else:\n",
    "                result[x, y] = 8 * u[x, y] - 2 * u[x - 1, y] - 2 * u[x + 1, y] - 2 * u[x, y + 1] - 2 * u[x, y - 1]\n",
    "    return result\n",
    "\n",
    "\n",
    "def derivative_atv_reg_term(u):\n",
    "    result = np.zeros(u.shape)\n",
    "    for x in range(u.shape[0]):\n",
    "        for y in range(u.shape[1]):\n",
    "            # Corners\n",
    "            if x == 0 and y == 0:\n",
    "                result[x, y] = - np.sign(u[1, 0] - u[0, 0]) - np.sign(u[0, 1] - u[0, 0])\n",
    "            elif x == 0 and y == u.shape[1]-1:\n",
    "                result[x, y] = np.sign(u[0, y] - u[0, y - 1]) - np.sign(u[1, y] - u[0, y])\n",
    "            elif x == u.shape[0]-1 and y == 0:\n",
    "                result[x, y] = np.sign(u[x, 0] - u[x-1, 0]) - np.sign(u[x, 1] - u[x, 0])\n",
    "            elif x == u.shape[0]-1 and y == u.shape[1]-1:\n",
    "                result[x, y] = np.sign(u[x, y] - u[x, y-1]) + np.sign(u[x, y] - u[x-1, y])\n",
    "            # Edges\n",
    "            elif x == 0: # Upper edge\n",
    "                result[x, y] = - np.sign(u[1, y] - u[0, y]) - np.sign(u[0, y+1] - u[0, y]) - np.sign(u[0, y] - u[0, y-1])\n",
    "            elif x == u.shape[0]-1: # Lower edge\n",
    "                result[x, y] = np.sign(u[x, y] - u[x-1, y]) + np.sign(u[x, y] - u[x, y-1]) - np.sign(u[x, y+1] - u[x, y])\n",
    "            elif  y == 0: # Left edge\n",
    "                result[x, y] = - np.sign(u[x+1, 0] - u[x, 0]) + np.sign(u[x, 0] - u[x-1, 0]) - np.sign(u[x, 1] - u[x, 0])\n",
    "            elif y == u.shape[1]-1: # Right edge\n",
    "                result[x, y] = np.sign(u[x, y] - u[x, y-1]) + np.sign(u[x, y] - u[x-1, y]) - np.sign(u[x+1, y] - u[x, y])\n",
    "            # Inside Image\n",
    "            else:\n",
    "                result[x, y] = np.sign(u[x, y] - u[x - 1, y]) - np.sign(u[x + 1, y] - u[x, y]) - np.sign(\n",
    "                    u[x, y + 1] - u[x, y]) - np.sign(u[x, y] - u[x, y - 1])\n",
    "    return result\n",
    "\n",
    "def GD(g, reg_lambda=0.01):\n",
    "    \"\"\"\n",
    "    Gradient Descent algorithm\n",
    "    g: grayscale blurry image of size (M, N)\n",
    "    reg_lambda: regularization parameter\n",
    "    \"\"\"\n",
    "    # TODO Test\n",
    "    u = np.zeros((g.shape[0] + 1, g.shape[1] + 1))\n",
    "    epsilon = 0.1\n",
    "\n",
    "    for x in range(g.shape[0]):\n",
    "        for y in range(g.shape[1]):\n",
    "            u[x, y] = g[x, y]\n",
    "\n",
    "    for i in range(10000):  #TODO Higher or lower\n",
    "        u = u - epsilon * derivative_img_term(g, u)\n",
    "        # u = u - epsilon * (derivate_img_term(g, u) + reg_lambda * derivative_gp_reg_term(u))\n",
    "        # u = u - epsilon * (derivative_img_term(g, u) + reg_lambda * derivative_atv_reg_term(u))\n",
    "    return u"
   ]
  },
  {
   "cell_type": "code",
   "execution_count": null,
   "metadata": {},
   "outputs": [],
   "source": [
    "def LGS(g, reg_lambda):\n",
    "    \"\"\"\n",
    "    Linearalized Gauss Seidel Algortihm\n",
    "    g: grayscale blurry image of size (M, N)\n",
    "    reg_lambda: regularization parameter\n",
    "    \"\"\"\n",
    "    u = g  # TODO: replace with actual implementation\n",
    "    return u"
   ]
  },
  {
   "cell_type": "code",
   "execution_count": null,
   "metadata": {},
   "outputs": [],
   "source": [
    "def LSOR(g, reg_lambda, w):\n",
    "    \"\"\"\n",
    "    Linearized SOR Algorithm\n",
    "    g: grayscale blurry image of size (M, N)\n",
    "    reg_lambda: regularization parameter\n",
    "    w: SOR parameter\n",
    "    \"\"\"\n",
    "    u = g  # TODO: replace with actual implementation\n"
   ]
  },
  {
   "cell_type": "markdown",
   "metadata": {},
   "source": [
    "### Parameters"
   ]
  },
  {
   "cell_type": "code",
   "execution_count": null,
   "metadata": {},
   "outputs": [],
   "source": [
    "# TODO Adjust\n",
    "reg_lambda = 0.0066 # lambda regularization parameter. you need to play with this\n",
    "# k matrix. Look below how to choose it \n",
    "k = 1\n"
   ]
  },
  {
   "cell_type": "markdown",
   "metadata": {},
   "source": [
    "$k =0 \\longrightarrow \\begin{bmatrix}\\frac{1}{2} & \\frac{1}{2} \\\\0&0\\end{bmatrix} \\hspace{1cm} k =1 \\longrightarrow  \\begin{bmatrix}\\frac{1}{2} & 0 \\\\\\frac{1}{2}&0\\end{bmatrix} \\hspace{1cm} k =2 \\longrightarrow \\begin{bmatrix}\\frac{1}{2} & 0 \\\\0&\\frac{1}{2}\\end{bmatrix}   \\hspace{1cm} k =3 \\longrightarrow \\begin{bmatrix}0 & \\frac{1}{2} \\\\ \\frac{1}{2}&0\\end{bmatrix}$\n"
   ]
  },
  {
   "cell_type": "markdown",
   "source": [
    "### Blurring the image"
   ],
   "metadata": {
    "collapsed": false,
    "pycharm": {
     "name": "#%% md\n"
    }
   }
  },
  {
   "cell_type": "code",
   "execution_count": null,
   "outputs": [],
   "source": [
    "def blurring(img, kernel):\n",
    "    blurred_img = np.zeros((img.shape[0] - 1, img.shape[1] - 1))\n",
    "    for row in range(img.shape[0] - 1):\n",
    "        for column in range(img.shape[1] - 1):\n",
    "            blur_pixel = 0\n",
    "            for p in range(kernel.shape[0]):\n",
    "                for q in range(kernel.shape[1]):\n",
    "                    blur_pixel += kernel[p, q] * img[row - p + 1, column - q + 1]\n",
    "                blurred_img[row, column] = blur_pixel\n",
    "    return blurred_img"
   ],
   "metadata": {
    "collapsed": false,
    "pycharm": {
     "name": "#%%\n"
    }
   }
  },
  {
   "cell_type": "markdown",
   "metadata": {},
   "source": [
    "### Reading image\n",
    "\n",
    "You are provided with only the synthetic image. \n",
    "The purpose of using a synthetic image is to see possible changes in the deblurred image after applying your algorithm. \n",
    "You can convolve the original image using the [scipy library](https://docs.scipy.org/doc/scipy/reference/generated/scipy.signal.convolve2d.html).\n",
    "Note that you must choose **valid** as the mode in your convolution."
   ]
  },
  {
   "cell_type": "code",
   "execution_count": null,
   "metadata": {},
   "outputs": [],
   "source": [
    "img_org = sample_image = create_random_binary_img_1()\n",
    "\n",
    "# Kernel k = 1\n",
    "kernel = np.array([[0.5,0],[0.5,0]])\n",
    "\n",
    "# TODO: blur this image\n",
    "img_blurred = blurring(sample_image, kernel)"
   ]
  },
  {
   "cell_type": "markdown",
   "metadata": {},
   "source": [
    "## GRADIENT DESCENT"
   ]
  },
  {
   "cell_type": "code",
   "execution_count": null,
   "metadata": {},
   "outputs": [],
   "source": [
    "# run gradient descent algorithm\n",
    "img_deblurred_gd = GD(img_blurred, reg_lambda)\n",
    "\n",
    "# for visualization purpose \n",
    "# img_deblurred_gd = np.clip(u_final_gd, 0, 1)\n",
    "\n",
    "\n",
    "plt.figure(figsize=(15, 5))\n",
    "ax1 = plt.subplot(1, 3, 1)\n",
    "plt.imshow(img_blurred, cmap='gray')\n",
    "ax2 = plt.subplot(1, 3, 2)\n",
    "plt.imshow(img_deblurred_gd, cmap='gray')\n",
    "ax3 = plt.subplot(1, 3, 3)\n",
    "plt.imshow(img_org, cmap='gray')\n",
    "\n",
    "ax1.set_title(\"Blurred Image\")\n",
    "ax2.set_title(\"Deblurred Image - GD\")\n",
    "ax3.set_title(\"Original - Sharp Image\")\n",
    "plt.show()\n",
    "\n",
    "print(f\"For lambda {reg_lambda:.5f}\\t \\nk_type {k:1d}\")\n",
    "\n",
    "# TODO: print the loss\n",
    "print(f\"Loss Data Term = \")\n",
    "\n",
    "# TODO: print the error\n",
    "print(\"Sum of Squared Distance: deblurred vs. original = \")  "
   ]
  },
  {
   "cell_type": "markdown",
   "metadata": {},
   "source": [
    "## SOR"
   ]
  },
  {
   "cell_type": "code",
   "execution_count": null,
   "metadata": {},
   "outputs": [],
   "source": [
    "w = 0.3 #play with this\n",
    "\n",
    "# run LSOR algorithm\n",
    "img_deblurred_sor = LSOR(img_blurred, reg_lambda, w)\n",
    "\n",
    "\n",
    "plt.figure(figsize=(15, 5))\n",
    "ax1 = plt.subplot(1, 3, 1)\n",
    "plt.imshow(img_blurred, cmap='gray')\n",
    "ax2 = plt.subplot(1, 3, 2)\n",
    "plt.imshow(img_deblurred_sor, cmap='gray')\n",
    "ax3 = plt.subplot(1, 3, 3)\n",
    "plt.imshow(img_org,cmap='gray')\n",
    "\n",
    "ax1.set_title(\"Blurred Image\")\n",
    "ax2.set_title(\"Deblurred Image - LSOR\")\n",
    "ax3.set_title(\"Original - Sharp Image\")\n",
    "#plt.savefig(\"results_\"+str(k)+\".png\")\n",
    "plt.show()\n",
    "\n",
    "print(f\"For lambda {reg_lambda:.5f}\")\n",
    "\n",
    "# TODO: print the loss\n",
    "print(f\"Loss Data Term = \")\n",
    "\n",
    "# TODO: print the error\n",
    "print(\"Sum of Squared Distance: deblurred vs. original = \")  "
   ]
  },
  {
   "cell_type": "markdown",
   "source": [
    "### Miscellanous functions"
   ],
   "metadata": {
    "collapsed": false
   }
  },
  {
   "cell_type": "code",
   "execution_count": null,
   "outputs": [],
   "source": [
    "def compute_loss(deblurred):\n",
    "    loss = 0\n",
    "    for x in range(deblurred.shape[0] - 1):\n",
    "        for y in range(deblurred.shape[1] - 1):\n",
    "            pass  #TODO, no?\n",
    "    return loss\n",
    "\n",
    "\n",
    "def compute_diff(original, deblurred):\n",
    "    diff = 0\n",
    "    for x in range(deblurred.shape[0] - 1):\n",
    "        for y in range(deblurred.shape[1] - 1):\n",
    "            diff += np.sqrt((original[x, y] - deblurred[x, y]) ** 2)\n",
    "    return diff"
   ],
   "metadata": {
    "collapsed": false,
    "pycharm": {
     "name": "#%%\n"
    }
   }
  },
  {
   "cell_type": "markdown",
   "metadata": {},
   "source": [
    "## GAUSS - SEIDEL"
   ]
  },
  {
   "cell_type": "code",
   "execution_count": null,
   "metadata": {},
   "outputs": [],
   "source": [
    "nb_iter = 1\n",
    "\n",
    "# run LGS algorithm\n",
    "img_deblurred_gs = LGS(img_blurred, reg_lambda)\n",
    "\n",
    "\n",
    "plt.figure(figsize=(15, 5))\n",
    "ax1 = plt.subplot(1, 3, 1)\n",
    "plt.imshow(img_blurred, cmap='gray')\n",
    "ax2 = plt.subplot(1, 3, 2)\n",
    "plt.imshow(img_deblurred_gs, cmap='gray')\n",
    "ax3 = plt.subplot(1, 3, 3)\n",
    "plt.imshow(img_org, cmap='gray')\n",
    "\n",
    "ax1.set_title(\"Blurred Image\")\n",
    "ax2.set_title(\"Deblurred Image - LGS\")\n",
    "ax3.set_title(\"Original - Sharp Image\")\n",
    "plt.show()\n",
    "\n",
    "print(f\"For lambda {reg_lambda:.5f}\")\n",
    "\n",
    "# TODO: print the loss\n",
    "print(f\"Loss Data Term = {compute_loss(img_deblurred_gd)}\")\n",
    "\n",
    "# TODO: print the error\n",
    "print(f\"Sum of Squared Distance: deblurred vs. original = {compute_diff(sample_image,img_deblurred_gd)}\")"
   ]
  }
 ],
 "metadata": {
  "kernelspec": {
   "display_name": "Python 3",
   "language": "python",
   "name": "python3"
  },
  "language_info": {
   "codemirror_mode": {
    "name": "ipython",
    "version": 3
   },
   "file_extension": ".py",
   "mimetype": "text/x-python",
   "name": "python",
   "nbconvert_exporter": "python",
   "pygments_lexer": "ipython3",
   "version": "3.8.5"
  }
 },
 "nbformat": 4,
 "nbformat_minor": 4
}