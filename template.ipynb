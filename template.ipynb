{
 "cells": [
  {
   "cell_type": "markdown",
   "metadata": {},
   "source": [
    "# Assignment 1 - Image Deblurring\n",
    "Name: Brian Schweigler<br>\n",
    "Matriculation number: 16-102-071"
   ]
  },
  {
   "cell_type": "code",
   "execution_count": 319,
   "metadata": {
    "pycharm": {
     "name": "#%%\n"
    }
   },
   "outputs": [],
   "source": [
    "import numpy as np\n",
    "import scipy\n",
    "import scipy.sparse\n",
    "from scipy.sparse.linalg import inv\n",
    "from PIL import Image\n",
    "import matplotlib.pyplot as plt\n",
    "from hessian_matrix import hessian_matrix"
   ]
  },
  {
   "cell_type": "markdown",
   "metadata": {},
   "source": [
    "## Test Image\n",
    "You can use the following function to create a synthetic image:"
   ]
  },
  {
   "cell_type": "code",
   "execution_count": 320,
   "metadata": {},
   "outputs": [
    {
     "data": {
      "text/plain": "<Figure size 432x288 with 1 Axes>",
      "image/png": "[encoded data removed]"
     },
     "metadata": {
      "needs_background": "light"
     },
     "output_type": "display_data"
    }
   ],
   "source": [
    "def create_random_binary_img_1():\n",
    "    # RandInt returns an integer from 1 (inclusive) to 2 (exclusive), meaning it will always be 1 (and not random!)\n",
    "    u = np.random.randint(1, 2, 30 * 30).reshape(30, 30).astype(float)\n",
    "    u[5:9, 4:] = 0.5\n",
    "    u[3:5, 4:] = 0\n",
    "    u[10:15, :10] = 0\n",
    "    u[10:15, 15:] = 0.8\n",
    "    u[15:, 18:27] = 0.3\n",
    "\n",
    "    for i in range(10):\n",
    "        u[i + 17, i + 4:i + 8] = 0\n",
    "\n",
    "    u[20:25:, 20:23] = 1\n",
    "    u[20:28, 4] = 0\n",
    "    u[20:28, 3] = 0.3\n",
    "    u[20:28, 2] = 0.7\n",
    "\n",
    "    return u\n",
    "\n",
    "\n",
    "sample_image = create_random_binary_img_1()\n",
    "plt.imshow(sample_image, cmap=\"gray\")\n",
    "plt.show()"
   ]
  },
  {
   "cell_type": "markdown",
   "metadata": {},
   "source": [
    "## hessian_matrix() function\n",
    "We provide the implementation of the hessian matrix for $k = 0, 1, 2, 3$.\n",
    "\n",
    "input variables: \n",
    "- u: your image\n",
    "- reg: regularization parameter\n",
    "- k: one of the four kernel types 0-3 \n",
    "\n",
    "Example usage:"
   ]
  },
  {
   "cell_type": "code",
   "execution_count": 321,
   "metadata": {},
   "outputs": [
    {
     "name": "stdout",
     "output_type": "stream",
     "text": [
      "[[ 4.  -2.   0.  -2.   0.   0.   0.   0.   0. ]\n",
      " [-2.   6.5 -2.   0.5 -2.   0.   0.   0.   0. ]\n",
      " [ 0.  -2.   4.5  0.   0.5 -2.   0.   0.   0. ]\n",
      " [-2.   0.5  0.   6.5 -2.   0.  -2.   0.   0. ]\n",
      " [ 0.  -2.   0.5 -2.   9.  -2.   0.5 -2.   0. ]\n",
      " [ 0.   0.  -2.   0.  -2.   6.5  0.   0.5 -2. ]\n",
      " [ 0.   0.   0.  -2.   0.5  0.   4.5 -2.   0. ]\n",
      " [ 0.   0.   0.   0.  -2.   0.5 -2.   6.5 -2. ]\n",
      " [ 0.   0.   0.   0.   0.  -2.   0.  -2.   4. ]]\n"
     ]
    }
   ],
   "source": [
    "u_ex = np.zeros(9).reshape(3, 3)\n",
    "reg_ex = 1\n",
    "k_type_ex = 3\n",
    "A = hessian_matrix(u_ex, reg_ex, k_type_ex)\n",
    "A_n_t = A.toarray()\n",
    "print(A_n_t)"
   ]
  },
  {
   "cell_type": "markdown",
   "metadata": {},
   "source": [
    "## Implementation"
   ]
  },
  {
   "cell_type": "code",
   "execution_count": 322,
   "metadata": {},
   "outputs": [],
   "source": [
    "def derivative_img_term(g, u):\n",
    "    \"\"\"\n",
    "    Derivative of the image term\n",
    "    g: Blurred image\n",
    "    u: The image\n",
    "    \"\"\"\n",
    "    result = np.zeros(u.shape)\n",
    "    for x in range(u.shape[0]):\n",
    "        for y in range(u.shape[1]):\n",
    "            # Corners\n",
    "            if x == 0 and y == 0:\n",
    "                result[x, y] = 0\n",
    "            elif x == 0 and y == u.shape[1] - 1:\n",
    "                result[x, y] = -g[0, y - 1] + 0.5 * u[1, y] + 0.5 * u[0, y]\n",
    "            elif x == u.shape[0] - 1 and y == 0:\n",
    "                result[x, y] = 0\n",
    "            elif x == u.shape[0] - 1 and y == u.shape[1] - 1:\n",
    "                result[x, y] = - g[x - 1, y - 1] + 0.5 * u[x, y] + 0.5 * u[x - 1, y]\n",
    "            # Edges\n",
    "            elif x == 0:  # Upper edge\n",
    "                result[x, y] = - g[0, y - 1] + 0.5 * u[0, y] + 0.5 * u[1, y]\n",
    "            elif x == u.shape[0] - 1:  # Lower edge\n",
    "                result[x, y] = - g[x - 1, y - 1] + 0.5 * u[x, y] + 0.5 * u[x - 1, y]\n",
    "            elif y == 0:  # Left edge\n",
    "                result[x, y] = 0\n",
    "            elif y == u.shape[1] - 1:  # Right edge\n",
    "                result[x, y] = - g[x, y - 1] - g[x - 1, y - 1] + u[x, y] + 0.5 * u[x + 1, y] + 0.5 * u[x - 1, y]\n",
    "            # Inside Image\n",
    "            else:\n",
    "                result[x, y] = u[x, y] + 0.5 * u[x + 1, y] + 0.5 * u[x - 1, y] - g[x, y - 1] - g[x - 1, y - 1]\n",
    "    return result\n",
    "\n",
    "\n",
    "def derivative_gp_reg_term(u):\n",
    "    \"\"\"\n",
    "    Using Gaussian Prior Regularization Term\n",
    "    u: The image\n",
    "    \"\"\"\n",
    "    result = np.zeros(u.shape)\n",
    "    for x in range(u.shape[0]):\n",
    "        for y in range(u.shape[1]):\n",
    "            # Corners\n",
    "            if x == 0 and y == 0:\n",
    "                result[x, y] = 4 * u[0, 0] - 2 * u[1, 0] - 2 * u[0, 1]\n",
    "            elif x == 0 and y == u.shape[1] - 1:\n",
    "                result[x, y] = 4 * u[0, y] - 2 * u[1, y] - 2 * u[0, y - 1]\n",
    "            elif x == u.shape[0] - 1 and y == 0:\n",
    "                result[x, y] = 4 * u[x, 0] - 2 * u[x - 1, 0] - 2 * u[x, 1]\n",
    "            elif x == u.shape[0] - 1 and y == u.shape[1] - 1:\n",
    "                result[x, y] = 4 * u[x, y] - 2 * u[x - 1, y] - 2 * u[x, y - 1]\n",
    "            # Edges\n",
    "            elif x == 0:  # Upper edge\n",
    "                result[x, y] = 6 * u[0, y] - 2 * u[1, y] - 2 * u[0, y + 1] - 2 * u[0, y - 1]\n",
    "            elif x == u.shape[0] - 1:  # Lower edge\n",
    "                result[x, y] = 6 * u[x, y] - 2 * u[x - 1, y] - 2 * u[x, y + 1] - 2 * u[x, y - 1]\n",
    "            elif y == 0:  # Left edge\n",
    "                result[x, y] = 6 * u[x, 0] - 2 * u[x - 1, 0] - 2 * u[x + 1, 0] - 2 * u[x, 1]\n",
    "            elif y == u.shape[1] - 1:  # Right edge\n",
    "                result[x, y] = 6 * u[x, y] - 2 * u[x - 1, y] - 2 * u[x + 1, y] - 2 * u[x, y - 1]\n",
    "            # Inside Image\n",
    "            else:\n",
    "                result[x, y] = 8 * u[x, y] - 2 * u[x - 1, y] - 2 * u[x + 1, y] - 2 * u[x, y + 1] - 2 * u[x, y - 1]\n",
    "    return result\n",
    "\n",
    "\n",
    "def derivative_atv_reg_term(u):\n",
    "    \"\"\"\n",
    "    Using Anisotropic Total Variation Regularization Term\n",
    "    u: The image\n",
    "    \"\"\"\n",
    "    result = np.zeros(u.shape)\n",
    "    for x in range(u.shape[0]):\n",
    "        for y in range(u.shape[1]):\n",
    "            # Corners\n",
    "            if x == 0 and y == 0:\n",
    "                result[x, y] = - np.sign(u[1, 0] - u[0, 0]) - np.sign(u[0, 1] - u[0, 0])\n",
    "            elif x == 0 and y == u.shape[1] - 1:\n",
    "                result[x, y] = np.sign(u[0, y] - u[0, y - 1]) - np.sign(u[1, y] - u[0, y])\n",
    "            elif x == u.shape[0] - 1 and y == 0:\n",
    "                result[x, y] = np.sign(u[x, 0] - u[x - 1, 0]) - np.sign(u[x, 1] - u[x, 0])\n",
    "            elif x == u.shape[0] - 1 and y == u.shape[1] - 1:\n",
    "                result[x, y] = np.sign(u[x, y] - u[x, y - 1]) + np.sign(u[x, y] - u[x - 1, y])\n",
    "            # Edges\n",
    "            elif x == 0:  # Upper edge\n",
    "                result[x, y] = - np.sign(u[1, y] - u[0, y]) - np.sign(u[0, y + 1] - u[0, y]) - np.sign(\n",
    "                    u[0, y] - u[0, y - 1])\n",
    "            elif x == u.shape[0] - 1:  # Lower edge\n",
    "                result[x, y] = np.sign(u[x, y] - u[x - 1, y]) + np.sign(u[x, y] - u[x, y - 1]) - np.sign(\n",
    "                    u[x, y + 1] - u[x, y])\n",
    "            elif y == 0:  # Left edge\n",
    "                result[x, y] = - np.sign(u[x + 1, 0] - u[x, 0]) + np.sign(u[x, 0] - u[x - 1, 0]) - np.sign(\n",
    "                    u[x, 1] - u[x, 0])\n",
    "            elif y == u.shape[1] - 1:  # Right edge\n",
    "                result[x, y] = np.sign(u[x, y] - u[x, y - 1]) + np.sign(u[x, y] - u[x - 1, y]) - np.sign(\n",
    "                    u[x + 1, y] - u[x, y])\n",
    "            # Inside Image\n",
    "            else:\n",
    "                result[x, y] = np.sign(u[x, y] - u[x - 1, y]) - np.sign(u[x + 1, y] - u[x, y]) - np.sign(\n",
    "                    u[x, y + 1] - u[x, y]) - np.sign(u[x, y] - u[x, y - 1])\n",
    "    return result\n",
    "\n",
    "\n",
    "def GD(g, reg_lambda, action=\"\"):\n",
    "    \"\"\"\n",
    "    Gradient Descent algorithm\n",
    "    g: grayscale blurry image of size (M, N)\n",
    "    reg_lambda: regularization parameter\n",
    "    Optional 'action': Variant to be used.\n",
    "    \"\"\"\n",
    "    # TODO Test\n",
    "    u = np.zeros((g.shape[0] + 1, g.shape[1] + 1))\n",
    "    epsilon = 0.1\n",
    "\n",
    "    for x in range(g.shape[0]):\n",
    "        for y in range(g.shape[1]):\n",
    "            u[x, y] = g[x, y]\n",
    "\n",
    "    if action == \"gauss\":  # Gaussian Regularization\n",
    "        gradient = derivative_img_term(g, u) + reg_lambda * derivative_gp_reg_term(u)\n",
    "        # while (np.sum(np.power(gradient, 2)) > margin):\n",
    "        for i in range(1000):\n",
    "            u = u - epsilon * gradient\n",
    "            gradient = derivative_img_term(g, u) + reg_lambda * derivative_gp_reg_term(u)\n",
    "    elif action == \"aniso\":  # Anisotropic Total Variation\n",
    "        gradient = derivative_img_term(g, u) + reg_lambda * derivative_atv_reg_term(u)\n",
    "        for i in range(1000):\n",
    "            u = u - epsilon * gradient\n",
    "            gradient = derivative_img_term(g, u) + reg_lambda * derivative_atv_reg_term(u)\n",
    "    else:  # No Regularization\n",
    "        gradient = derivative_img_term(g, u)\n",
    "        while np.sum(np.power(gradient, 2)) > 0.000001:\n",
    "            u = u - epsilon * gradient\n",
    "            gradient = derivative_img_term(g, u)\n",
    "    return u"
   ]
  },
  {
   "cell_type": "markdown",
   "source": [
    "## Linearization and Gauss-Seidel"
   ],
   "metadata": {
    "collapsed": false,
    "pycharm": {
     "name": "#%% md\n"
    }
   }
  },
  {
   "cell_type": "code",
   "execution_count": 324,
   "metadata": {
    "pycharm": {
     "name": "#%%\n"
    }
   },
   "outputs": [],
   "source": [
    "def LGS(g, reg_lambda):\n",
    "    \"\"\"\n",
    "    Creating the initial image u (1 unit larger than g in both dimensions), which is set to g as a starting point.\n",
    "    Until the difference between the two different u's is smaller than 0.00001, the Linearalized Gauss Seidel Algortihm is applied.\n",
    "\n",
    "    g: grayscale blurry image of size (M, N)\n",
    "    reg_lambda: regularization parameter\n",
    "    \"\"\"\n",
    "    margin = 0.000001\n",
    "    u = np.zeros((g.shape[0] + 1, g.shape[1] + 1))\n",
    "    old_u = np.zeros((g.shape[0] + 1, g.shape[1] + 1))\n",
    "\n",
    "    for x in range(g.shape[0]):\n",
    "        for y in range(g.shape[1]):\n",
    "            u[x, y] = g[x, y]\n",
    "\n",
    "    while np.sum(np.power(old_u - u, 2)) > margin:\n",
    "        old_u = u\n",
    "        u = iterative_linearization(g, u, reg_lambda)\n",
    "\n",
    "    return u"
   ]
  },
  {
   "cell_type": "code",
   "execution_count": null,
   "outputs": [],
   "source": [
    "def iterative_linearization(g, u, reg_lambda):\n",
    "    \"\"\"\n",
    "    Gauss Seidel approach with linearized term using sparse matrices (speed-up!).\n",
    "    g: Grayscale blurry image of size (m, n)\n",
    "    u: Image passed from LSOR()\n",
    "    reg_lambda: Regularization parameter\n",
    "    \"\"\"\n",
    "    m, n = u.shape[0], u.shape[1]\n",
    "\n",
    "    # Flatten image\n",
    "    vector_u = u.reshape(m * n, 1)\n",
    "\n",
    "    # Hessian Matrix\n",
    "    hess_mat = hessian_matrix(u, reg_lambda, k)\n",
    "    # Compute b\n",
    "    b = hess_mat * vector_u - (derivative_img_term(g, u) + reg_lambda * derivative_gp_reg_term(u)).reshape(m * n, 1)\n",
    "    # Triangular lower sparse matrix\n",
    "    lower_mat = scipy.sparse.tril(hess_mat, k=0)\n",
    "    # Triangular upper sparse matrix\n",
    "    upper_mat = scipy.sparse.triu(hess_mat, k=1)\n",
    "\n",
    "    vector_u = inv(lower_mat) * (b - upper_mat * vector_u)\n",
    "\n",
    "    # Reshape flat image to initial size\n",
    "    u = vector_u.reshape(m, n)\n",
    "\n",
    "    return u"
   ],
   "metadata": {
    "collapsed": false,
    "pycharm": {
     "name": "#%%\n"
    }
   }
  },
  {
   "cell_type": "code",
   "execution_count": 325,
   "metadata": {},
   "outputs": [],
   "source": [
    "def iterative_linearization_SOR(g, u, reg_lambda, w):\n",
    "    \"\"\"\n",
    "    Successive Over-Relaxation Approach, using sparse matrices (speed-up!) for the linearized term.\n",
    "    g: Grayscale blurry image of size (m, n)\n",
    "    u: Image passed from LSOR()\n",
    "    reg_lambda: Regularization parameter\n",
    "    w: SOR parameter\n",
    "    \"\"\"\n",
    "    m, n = u.shape[0], u.shape[1]\n",
    "\n",
    "    # Flatten image\n",
    "    vector_u = u.reshape(m * n, 1)\n",
    "    # Hessian Matrix\n",
    "    hess_mat = hessian_matrix(u, reg_lambda, k)\n",
    "    # Triangular lower sparse matrix\n",
    "    lower_mat = scipy.sparse.tril(hess_mat, k=-1)\n",
    "    # Triangular upper sparse matrix\n",
    "    upper_mat = scipy.sparse.triu(hess_mat, k=1)\n",
    "    # Diagonal sparse matrix, defined by the three matrices above\n",
    "    diag_mat = hess_mat - lower_mat - upper_mat\n",
    "\n",
    "    b = hess_mat * vector_u - (derivative_img_term(g, u) + reg_lambda * derivative_gp_reg_term(u)).reshape(m * n, 1)\n",
    "\n",
    "    vector_u = inv(diag_mat + w * lower_mat) * (w * b - (w * upper_mat + (w - 1) * diag_mat) * vector_u)\n",
    "\n",
    "    # Reshape flat image to initial size\n",
    "    u = vector_u.reshape(m, n)\n",
    "\n",
    "    return u"
   ]
  },
  {
   "cell_type": "code",
   "execution_count": null,
   "outputs": [],
   "source": [
    "def LSOR(g, reg_lambda, w):\n",
    "    \"\"\"\n",
    "    Creating the initial image u (1 unit larger than g in both dimensions), which is set to g as a good starting point.\n",
    "    Until the difference between the two different u's is smaller than 0.00001, the Linearized SOR Algorithm algorithm is applied.\n",
    "\n",
    "    g: Grayscale blurry image of size (m, n)\n",
    "    reg_lambda: Regularization parameter\n",
    "    w: SOR parameter\n",
    "    \"\"\"\n",
    "    u = np.zeros((g.shape[0] + 1, g.shape[1] + 1))\n",
    "    prior_u = np.zeros((g.shape[0] + 1, g.shape[1] + 1))\n",
    "\n",
    "    for x in range(g.shape[0]):\n",
    "        for y in range(g.shape[1]):\n",
    "            u[x, y] = g[x, y]\n",
    "\n",
    "    while np.sum(np.power(prior_u - u, 2)) > 0.00001:\n",
    "        prior_u = u\n",
    "        u = iterative_linearization_SOR(g, u, reg_lambda, w)\n",
    "    return u"
   ],
   "metadata": {
    "collapsed": false,
    "pycharm": {
     "name": "#%%\n"
    }
   }
  },
  {
   "cell_type": "markdown",
   "metadata": {},
   "source": [
    "### Parameters"
   ]
  },
  {
   "cell_type": "code",
   "execution_count": 326,
   "metadata": {},
   "outputs": [],
   "source": [
    "# TODO Adjust\n",
    "reg_lambda = 0.0055  # lambda regularization parameter. you need to play with this\n",
    "# 0.025 best for Gauss\n",
    "# 0.005 best for anisotropic total variation\n",
    "\n",
    "# k matrix. Look below how to choose it \n",
    "k = 1"
   ]
  },
  {
   "cell_type": "markdown",
   "metadata": {},
   "source": [
    "$k =0 \\longrightarrow \\begin{bmatrix}\\frac{1}{2} & \\frac{1}{2} \\\\0&0\\end{bmatrix} \\hspace{1cm} k =1 \\longrightarrow  \\begin{bmatrix}\\frac{1}{2} & 0 \\\\\\frac{1}{2}&0\\end{bmatrix} \\hspace{1cm} k =2 \\longrightarrow \\begin{bmatrix}\\frac{1}{2} & 0 \\\\0&\\frac{1}{2}\\end{bmatrix}   \\hspace{1cm} k =3 \\longrightarrow \\begin{bmatrix}0 & \\frac{1}{2} \\\\ \\frac{1}{2}&0\\end{bmatrix}$"
   ]
  },
  {
   "cell_type": "markdown",
   "metadata": {
    "pycharm": {
     "name": "#%% md\n"
    }
   },
   "source": [
    "### Blurring the image"
   ]
  },
  {
   "cell_type": "code",
   "execution_count": 327,
   "metadata": {
    "pycharm": {
     "name": "#%%\n"
    }
   },
   "outputs": [],
   "source": [
    "def blurring(img, kernel_mat):\n",
    "    \"\"\"\n",
    "    TODO: Description\n",
    "    img: The image passed\n",
    "    kernel_mat: The kernel used\n",
    "    \"\"\"\n",
    "    blurred_img = np.zeros((img.shape[0] - 1, img.shape[1] - 1))\n",
    "    for row in range(img.shape[0] - 1):\n",
    "        for column in range(img.shape[1] - 1):\n",
    "            blur_pixel = 0\n",
    "            for p in range(kernel_mat.shape[0]):\n",
    "                for q in range(kernel_mat.shape[1]):\n",
    "                    blur_pixel += kernel_mat[p, q] * img[row - p + 1, column - q + 1]\n",
    "                blurred_img[row, column] = blur_pixel\n",
    "    return blurred_img"
   ]
  },
  {
   "cell_type": "markdown",
   "metadata": {},
   "source": [
    "### Miscellanous functions"
   ]
  },
  {
   "cell_type": "code",
   "execution_count": 328,
   "metadata": {
    "pycharm": {
     "name": "#%%\n"
    }
   },
   "outputs": [],
   "source": [
    "def compute_loss(blurred_img, deblurred_img, kernel_mat):\n",
    "    \"\"\"\n",
    "    Computes the data loss\n",
    "    blurred_img: The blurred image\n",
    "    deblurred_img: The deblurred image\n",
    "    kernel_mat: The kernel used\n",
    "    \"\"\"\n",
    "    loss = 0\n",
    "    for x in range(blurred_img.shape[0]):\n",
    "        for y in range(blurred_img.shape[1]):\n",
    "            convolution = 0\n",
    "            for p in range(kernel_mat.shape[0]):\n",
    "                for q in range(kernel_mat.shape[1]):\n",
    "                    convolution += kernel_mat[p, q] * deblurred_img[x - p + 1, y - q + 1]\n",
    "            loss += (blurred_img[x, y] - convolution) ** 2\n",
    "    return loss\n",
    "\n",
    "\n",
    "def compute_diff(deblurred_img, sample_img):\n",
    "    \"\"\"\n",
    "    Calculates the sum of squared differences\n",
    "    deblurred_img: The deblurred image\n",
    "    sample_img: The unblurred image\n",
    "    \"\"\"\n",
    "    return np.sum(np.power(deblurred_img - sample_img, 2))"
   ]
  },
  {
   "cell_type": "markdown",
   "metadata": {},
   "source": [
    "### Reading image\n",
    "You are provided with only the synthetic image. \n",
    "The purpose of using a synthetic image is to see possible changes in the deblurred image after applying your algorithm. \n",
    "You can convolve the original image using the [scipy library](https://docs.scipy.org/doc/scipy/reference/generated/scipy.signal.convolve2d.html).\n",
    "Note that you must choose **valid** as the mode in your convolution."
   ]
  },
  {
   "cell_type": "code",
   "execution_count": 329,
   "metadata": {},
   "outputs": [],
   "source": [
    "img_org = sample_image = create_random_binary_img_1()\n",
    "\n",
    "# Kernel k = 1\n",
    "kernel = np.array([[0.5, 0], [0.5, 0]])\n",
    "\n",
    "img_blurred = blurring(sample_image, kernel)"
   ]
  },
  {
   "cell_type": "markdown",
   "metadata": {},
   "source": [
    "## GRADIENT DESCENT"
   ]
  },
  {
   "cell_type": "code",
   "execution_count": null,
   "outputs": [],
   "source": [
    "# run gradient descent algorithm\n",
    "img_deblurred_gd = GD(img_blurred, reg_lambda, \"aniso\")\n",
    "\n",
    "# for visualization purpose \n",
    "# img_deblurred_gd = np.clip(u_final_gd, 0, 1)\n",
    "\n",
    "plt.figure(figsize=(15, 5))\n",
    "ax1 = plt.subplot(1, 3, 1)\n",
    "plt.imshow(img_blurred, cmap='gray')\n",
    "ax2 = plt.subplot(1, 3, 2)\n",
    "plt.imshow(img_deblurred_gd, cmap='gray')\n",
    "ax3 = plt.subplot(1, 3, 3)\n",
    "plt.imshow(img_org, cmap='gray')\n",
    "\n",
    "ax1.set_title(\"Blurred Image\")\n",
    "ax2.set_title(\"Deblurred Image - GD\")\n",
    "ax3.set_title(\"Original - Sharp Image\")\n",
    "plt.show()\n",
    "\n",
    "print(f\"For lambda {reg_lambda:.5f}\\t \\nk_type {k:1d}\")\n",
    "print(f\"Loss Data Term = {compute_loss(img_blurred, img_deblurred_gd, kernel):.5f}\")\n",
    "print(f\"Sum of Squared Distance: deblurred vs. original = {compute_diff(img_deblurred_gd, sample_image):.5f}\")"
   ],
   "metadata": {
    "collapsed": false,
    "pycharm": {
     "name": "#%%\n"
    }
   }
  },
  {
   "cell_type": "markdown",
   "metadata": {},
   "source": [
    "## SOR"
   ]
  },
  {
   "cell_type": "code",
   "execution_count": 331,
   "metadata": {},
   "outputs": [
    {
     "name": "stderr",
     "output_type": "stream",
     "text": [
      "c:\\users\\brian\\appdata\\local\\programs\\python\\python39\\lib\\site-packages\\scipy\\sparse\\linalg\\dsolve\\linsolve.py:318: SparseEfficiencyWarning: splu requires CSC matrix format\n",
      "  warn('splu requires CSC matrix format', SparseEfficiencyWarning)\n",
      "c:\\users\\brian\\appdata\\local\\programs\\python\\python39\\lib\\site-packages\\scipy\\sparse\\linalg\\dsolve\\linsolve.py:215: SparseEfficiencyWarning: spsolve is more efficient when sparse b is in the CSC matrix format\n",
      "  warn('spsolve is more efficient when sparse b '\n"
     ]
    },
    {
     "data": {
      "text/plain": "<Figure size 1080x360 with 3 Axes>",
      "image/png": "[encoded data removed]"
     },
     "metadata": {
      "needs_background": "light"
     },
     "output_type": "display_data"
    },
    {
     "name": "stdout",
     "output_type": "stream",
     "text": [
      "For lambda 0.00550\n",
      "Loss Data Term = 0.04486\n",
      "Sum of Squared Distance: deblurred vs. original = 0.02332\n"
     ]
    }
   ],
   "source": [
    "# TODO\n",
    "w = 0.3  #play with this TODO\n",
    "\n",
    "# run LSOR algorithm\n",
    "img_deblurred_sor = LSOR(img_blurred, reg_lambda, w)\n",
    "\n",
    "plt.figure(figsize=(15, 5))\n",
    "ax1 = plt.subplot(1, 3, 1)\n",
    "plt.imshow(img_blurred, cmap='gray')\n",
    "ax2 = plt.subplot(1, 3, 2)\n",
    "plt.imshow(img_deblurred_sor, cmap='gray')\n",
    "ax3 = plt.subplot(1, 3, 3)\n",
    "plt.imshow(img_org, cmap='gray')\n",
    "\n",
    "ax1.set_title(\"Blurred Image\")\n",
    "ax2.set_title(\"Deblurred Image - LSOR\")\n",
    "ax3.set_title(\"Original - Sharp Image\")\n",
    "# plt.savefig(\"results_\" + str(k) + \".png\")\n",
    "plt.show()\n",
    "\n",
    "print(f\"For lambda {reg_lambda:.5f}\")\n",
    "print(f\"Loss Data Term = {compute_loss(img_blurred, img_deblurred_sor, kernel):.5f}\")\n",
    "print(f\"Sum of Squared Distance: deblurred vs. original = {compute_diff(img_deblurred_sor, sample_image):.5f}\")\n",
    "\n"
   ]
  },
  {
   "cell_type": "markdown",
   "metadata": {},
   "source": [
    "## GAUSS - SEIDEL"
   ]
  },
  {
   "cell_type": "code",
   "execution_count": 332,
   "metadata": {},
   "outputs": [
    {
     "ename": "ValueError",
     "evalue": "Sparse matrices are not supported by this function. Perhaps one of the scipy.sparse.linalg functions would work instead.",
     "output_type": "error",
     "traceback": [
      "\u001B[1;31m---------------------------------------------------------------------------\u001B[0m",
      "\u001B[1;31mValueError\u001B[0m                                Traceback (most recent call last)",
      "\u001B[1;32m~\\AppData\\Local\\Temp/ipykernel_9400/3287706490.py\u001B[0m in \u001B[0;36m<module>\u001B[1;34m\u001B[0m\n\u001B[0;32m      3\u001B[0m \u001B[1;33m\u001B[0m\u001B[0m\n\u001B[0;32m      4\u001B[0m \u001B[1;31m# run LGS algorithm\u001B[0m\u001B[1;33m\u001B[0m\u001B[1;33m\u001B[0m\u001B[1;33m\u001B[0m\u001B[0m\n\u001B[1;32m----> 5\u001B[1;33m \u001B[0mimg_deblurred_gs\u001B[0m \u001B[1;33m=\u001B[0m \u001B[0mLGS\u001B[0m\u001B[1;33m(\u001B[0m\u001B[0mimg_blurred\u001B[0m\u001B[1;33m,\u001B[0m \u001B[0mreg_lambda\u001B[0m\u001B[1;33m)\u001B[0m\u001B[1;33m\u001B[0m\u001B[1;33m\u001B[0m\u001B[0m\n\u001B[0m\u001B[0;32m      6\u001B[0m \u001B[1;33m\u001B[0m\u001B[0m\n\u001B[0;32m      7\u001B[0m \u001B[0mplt\u001B[0m\u001B[1;33m.\u001B[0m\u001B[0mfigure\u001B[0m\u001B[1;33m(\u001B[0m\u001B[0mfigsize\u001B[0m\u001B[1;33m=\u001B[0m\u001B[1;33m(\u001B[0m\u001B[1;36m15\u001B[0m\u001B[1;33m,\u001B[0m \u001B[1;36m5\u001B[0m\u001B[1;33m)\u001B[0m\u001B[1;33m)\u001B[0m\u001B[1;33m\u001B[0m\u001B[1;33m\u001B[0m\u001B[0m\n",
      "\u001B[1;32m~\\AppData\\Local\\Temp/ipykernel_9400/2171856789.py\u001B[0m in \u001B[0;36mLGS\u001B[1;34m(g, reg_lambda)\u001B[0m\n\u001B[0;32m     14\u001B[0m     \u001B[1;32mwhile\u001B[0m \u001B[1;33m(\u001B[0m\u001B[0mnp\u001B[0m\u001B[1;33m.\u001B[0m\u001B[0msum\u001B[0m\u001B[1;33m(\u001B[0m\u001B[0mnp\u001B[0m\u001B[1;33m.\u001B[0m\u001B[0mpower\u001B[0m\u001B[1;33m(\u001B[0m\u001B[0mold_u\u001B[0m \u001B[1;33m-\u001B[0m \u001B[0mu\u001B[0m\u001B[1;33m,\u001B[0m \u001B[1;36m2\u001B[0m\u001B[1;33m)\u001B[0m\u001B[1;33m)\u001B[0m \u001B[1;33m>\u001B[0m \u001B[1;36m0.000001\u001B[0m\u001B[1;33m)\u001B[0m\u001B[1;33m:\u001B[0m\u001B[1;33m\u001B[0m\u001B[1;33m\u001B[0m\u001B[0m\n\u001B[0;32m     15\u001B[0m         \u001B[0mold_u\u001B[0m \u001B[1;33m=\u001B[0m \u001B[0mu\u001B[0m\u001B[1;33m\u001B[0m\u001B[1;33m\u001B[0m\u001B[0m\n\u001B[1;32m---> 16\u001B[1;33m         \u001B[0mu\u001B[0m \u001B[1;33m=\u001B[0m \u001B[0miterative_linearization\u001B[0m\u001B[1;33m(\u001B[0m\u001B[0mg\u001B[0m\u001B[1;33m,\u001B[0m \u001B[0mu\u001B[0m\u001B[1;33m,\u001B[0m \u001B[0mreg_lambda\u001B[0m\u001B[1;33m)\u001B[0m\u001B[1;33m\u001B[0m\u001B[1;33m\u001B[0m\u001B[0m\n\u001B[0m\u001B[0;32m     17\u001B[0m \u001B[1;33m\u001B[0m\u001B[0m\n\u001B[0;32m     18\u001B[0m     \u001B[1;32mreturn\u001B[0m \u001B[0mu\u001B[0m\u001B[1;33m\u001B[0m\u001B[1;33m\u001B[0m\u001B[0m\n",
      "\u001B[1;32m~\\AppData\\Local\\Temp/ipykernel_9400/1563222208.py\u001B[0m in \u001B[0;36miterative_linearization\u001B[1;34m(g, u, reg_lambda)\u001B[0m\n\u001B[0;32m     10\u001B[0m     \u001B[0mU\u001B[0m \u001B[1;33m=\u001B[0m \u001B[0mscipy\u001B[0m\u001B[1;33m.\u001B[0m\u001B[0msparse\u001B[0m\u001B[1;33m.\u001B[0m\u001B[0mtriu\u001B[0m\u001B[1;33m(\u001B[0m\u001B[0mH\u001B[0m\u001B[1;33m,\u001B[0m \u001B[0mk\u001B[0m\u001B[1;33m=\u001B[0m\u001B[1;36m1\u001B[0m\u001B[1;33m)\u001B[0m\u001B[1;33m\u001B[0m\u001B[1;33m\u001B[0m\u001B[0m\n\u001B[0;32m     11\u001B[0m \u001B[1;33m\u001B[0m\u001B[0m\n\u001B[1;32m---> 12\u001B[1;33m     \u001B[0mvector_u\u001B[0m \u001B[1;33m=\u001B[0m \u001B[0mscipy\u001B[0m\u001B[1;33m.\u001B[0m\u001B[0mlinalg\u001B[0m\u001B[1;33m.\u001B[0m\u001B[0minv\u001B[0m\u001B[1;33m(\u001B[0m\u001B[0mL\u001B[0m\u001B[1;33m)\u001B[0m \u001B[1;33m*\u001B[0m \u001B[1;33m(\u001B[0m\u001B[0mb\u001B[0m \u001B[1;33m-\u001B[0m \u001B[0mU\u001B[0m \u001B[1;33m*\u001B[0m \u001B[0mvector_u\u001B[0m\u001B[1;33m)\u001B[0m\u001B[1;33m\u001B[0m\u001B[1;33m\u001B[0m\u001B[0m\n\u001B[0m\u001B[0;32m     13\u001B[0m \u001B[1;33m\u001B[0m\u001B[0m\n\u001B[0;32m     14\u001B[0m     \u001B[0mu\u001B[0m \u001B[1;33m=\u001B[0m \u001B[0mvector_u\u001B[0m\u001B[1;33m.\u001B[0m\u001B[0mreshape\u001B[0m\u001B[1;33m(\u001B[0m\u001B[0mm\u001B[0m\u001B[1;33m,\u001B[0m \u001B[0mn\u001B[0m\u001B[1;33m)\u001B[0m\u001B[1;33m\u001B[0m\u001B[1;33m\u001B[0m\u001B[0m\n",
      "\u001B[1;32mc:\\users\\brian\\appdata\\local\\programs\\python\\python39\\lib\\site-packages\\scipy\\linalg\\basic.py\u001B[0m in \u001B[0;36minv\u001B[1;34m(a, overwrite_a, check_finite)\u001B[0m\n\u001B[0;32m    932\u001B[0m \u001B[1;33m\u001B[0m\u001B[0m\n\u001B[0;32m    933\u001B[0m     \"\"\"\n\u001B[1;32m--> 934\u001B[1;33m     \u001B[0ma1\u001B[0m \u001B[1;33m=\u001B[0m \u001B[0m_asarray_validated\u001B[0m\u001B[1;33m(\u001B[0m\u001B[0ma\u001B[0m\u001B[1;33m,\u001B[0m \u001B[0mcheck_finite\u001B[0m\u001B[1;33m=\u001B[0m\u001B[0mcheck_finite\u001B[0m\u001B[1;33m)\u001B[0m\u001B[1;33m\u001B[0m\u001B[1;33m\u001B[0m\u001B[0m\n\u001B[0m\u001B[0;32m    935\u001B[0m     \u001B[1;32mif\u001B[0m \u001B[0mlen\u001B[0m\u001B[1;33m(\u001B[0m\u001B[0ma1\u001B[0m\u001B[1;33m.\u001B[0m\u001B[0mshape\u001B[0m\u001B[1;33m)\u001B[0m \u001B[1;33m!=\u001B[0m \u001B[1;36m2\u001B[0m \u001B[1;32mor\u001B[0m \u001B[0ma1\u001B[0m\u001B[1;33m.\u001B[0m\u001B[0mshape\u001B[0m\u001B[1;33m[\u001B[0m\u001B[1;36m0\u001B[0m\u001B[1;33m]\u001B[0m \u001B[1;33m!=\u001B[0m \u001B[0ma1\u001B[0m\u001B[1;33m.\u001B[0m\u001B[0mshape\u001B[0m\u001B[1;33m[\u001B[0m\u001B[1;36m1\u001B[0m\u001B[1;33m]\u001B[0m\u001B[1;33m:\u001B[0m\u001B[1;33m\u001B[0m\u001B[1;33m\u001B[0m\u001B[0m\n\u001B[0;32m    936\u001B[0m         \u001B[1;32mraise\u001B[0m \u001B[0mValueError\u001B[0m\u001B[1;33m(\u001B[0m\u001B[1;34m'expected square matrix'\u001B[0m\u001B[1;33m)\u001B[0m\u001B[1;33m\u001B[0m\u001B[1;33m\u001B[0m\u001B[0m\n",
      "\u001B[1;32mc:\\users\\brian\\appdata\\local\\programs\\python\\python39\\lib\\site-packages\\scipy\\_lib\\_util.py\u001B[0m in \u001B[0;36m_asarray_validated\u001B[1;34m(a, check_finite, sparse_ok, objects_ok, mask_ok, as_inexact)\u001B[0m\n\u001B[0;32m    255\u001B[0m                    \u001B[1;34m'Perhaps one of the scipy.sparse.linalg functions '\u001B[0m\u001B[1;33m\u001B[0m\u001B[1;33m\u001B[0m\u001B[0m\n\u001B[0;32m    256\u001B[0m                    'would work instead.')\n\u001B[1;32m--> 257\u001B[1;33m             \u001B[1;32mraise\u001B[0m \u001B[0mValueError\u001B[0m\u001B[1;33m(\u001B[0m\u001B[0mmsg\u001B[0m\u001B[1;33m)\u001B[0m\u001B[1;33m\u001B[0m\u001B[1;33m\u001B[0m\u001B[0m\n\u001B[0m\u001B[0;32m    258\u001B[0m     \u001B[1;32mif\u001B[0m \u001B[1;32mnot\u001B[0m \u001B[0mmask_ok\u001B[0m\u001B[1;33m:\u001B[0m\u001B[1;33m\u001B[0m\u001B[1;33m\u001B[0m\u001B[0m\n\u001B[0;32m    259\u001B[0m         \u001B[1;32mif\u001B[0m \u001B[0mnp\u001B[0m\u001B[1;33m.\u001B[0m\u001B[0mma\u001B[0m\u001B[1;33m.\u001B[0m\u001B[0misMaskedArray\u001B[0m\u001B[1;33m(\u001B[0m\u001B[0ma\u001B[0m\u001B[1;33m)\u001B[0m\u001B[1;33m:\u001B[0m\u001B[1;33m\u001B[0m\u001B[1;33m\u001B[0m\u001B[0m\n",
      "\u001B[1;31mValueError\u001B[0m: Sparse matrices are not supported by this function. Perhaps one of the scipy.sparse.linalg functions would work instead."
     ]
    }
   ],
   "source": [
    "# TODO\n",
    "nb_iter = 1\n",
    "\n",
    "# run LGS algorithm\n",
    "img_deblurred_gs = LGS(img_blurred, reg_lambda)\n",
    "\n",
    "plt.figure(figsize=(15, 5))\n",
    "ax1 = plt.subplot(1, 3, 1)\n",
    "plt.imshow(img_blurred, cmap='gray')\n",
    "ax2 = plt.subplot(1, 3, 2)\n",
    "plt.imshow(img_deblurred_gs, cmap='gray')\n",
    "ax3 = plt.subplot(1, 3, 3)\n",
    "plt.imshow(img_org, cmap='gray')\n",
    "\n",
    "ax1.set_title(\"Blurred Image\")\n",
    "ax2.set_title(\"Deblurred Image - LGS\")\n",
    "ax3.set_title(\"Original - Sharp Image\")\n",
    "#plt.savefig(\"figures/results_LSOR_\"+str(k)+\".png\")\n",
    "plt.show()\n",
    "\n",
    "print(f\"For lambda {reg_lambda:.5f}\")\n",
    "print(f\"Loss Data Term = {compute_loss(img_blurred, img_deblurred_gs, kernel):.5f}\")\n",
    "print(f\"Sum of Squared Distance: deblurred vs. original = {compute_diff(img_deblurred_gs, sample_image):.5f}\")"
   ]
  }
 ],
 "metadata": {
  "kernelspec": {
   "display_name": "Python 3 (ipykernel)",
   "language": "python",
   "name": "python3"
  },
  "language_info": {
   "codemirror_mode": {
    "name": "ipython",
    "version": 3
   },
   "file_extension": ".py",
   "mimetype": "text/x-python",
   "name": "python",
   "nbconvert_exporter": "python",
   "pygments_lexer": "ipython3",
   "version": "3.9.2"
  }
 },
 "nbformat": 4,
 "nbformat_minor": 4
}